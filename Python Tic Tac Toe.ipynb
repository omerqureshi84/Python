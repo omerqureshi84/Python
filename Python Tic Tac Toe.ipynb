{
 "cells": [
  {
   "cell_type": "code",
   "execution_count": 131,
   "metadata": {},
   "outputs": [],
   "source": [
    "#python tic tac to"
   ]
  },
  {
   "cell_type": "code",
   "execution_count": 132,
   "metadata": {},
   "outputs": [],
   "source": [
    "mat = array(range(9),dtype='str').reshape(3,3)"
   ]
  },
  {
   "cell_type": "code",
   "execution_count": 133,
   "metadata": {},
   "outputs": [
    {
     "data": {
      "text/plain": [
       "array([['0', '1', '2'],\n",
       "       ['3', '4', '5'],\n",
       "       ['6', '7', '8']], dtype='<U1')"
      ]
     },
     "execution_count": 133,
     "metadata": {},
     "output_type": "execute_result"
    }
   ],
   "source": [
    "mat"
   ]
  },
  {
   "cell_type": "code",
   "execution_count": 134,
   "metadata": {},
   "outputs": [
    {
     "name": "stdout",
     "output_type": "stream",
     "text": [
      "Input the row number: 0\n",
      "Input the column number: 0\n",
      "Provide the value (X or O)X\n",
      "Continue with selecting the next action\n",
      "[['X' '1' '2']\n",
      " ['3' '4' '5']\n",
      " ['6' '7' '8']]\n",
      "Input the row number: 1\n",
      "Input the column number: 1\n",
      "Provide the value (X or O)X\n",
      "Continue with selecting the next action\n",
      "[['X' '1' '2']\n",
      " ['3' 'X' '5']\n",
      " ['6' '7' '8']]\n",
      "Input the row number: 2\n",
      "Input the column number: 2\n",
      "Provide the value (X or O)X\n",
      "Congratulations you win\n",
      "[['X' '1' '2']\n",
      " ['3' 'X' '5']\n",
      " ['6' '7' 'X']]\n"
     ]
    }
   ],
   "source": [
    "indicator = True\n",
    "\n",
    "while True:\n",
    "    row = int(input(\"Input the row number: \"))\n",
    "    column = int(input(\"Input the column number: \"))\n",
    "    value = input(\"Provide the value (X or O)\")\n",
    "    mat[row,column] = value\n",
    "\n",
    "    if mat[0,0] == mat[0,1] == mat[0,2]:\n",
    "        print(\"Congratulations you win\")\n",
    "        indicator = False\n",
    "        print(mat)\n",
    "        break\n",
    "    elif mat[1,0] == mat[1,1] == mat[1,2]:\n",
    "        print(\"Congratulations you win\")\n",
    "        indicator = False\n",
    "        print(mat)\n",
    "        break\n",
    "    elif mat[2,0] == mat[2,1] == mat[2,2]:\n",
    "        print(\"Congratulations you win\")\n",
    "        indicator = False\n",
    "        print(mat)\n",
    "        break\n",
    "    elif mat[:,[0]][0] == mat[:,[0]][1] == mat[:,[0]][2]:\n",
    "        print(\"Congratulations you win\")\n",
    "        indicator = False\n",
    "        print(mat)\n",
    "        break\n",
    "    elif mat[:,[1]][0] == mat[:,[1]][1] == mat[:,[1]][2]:\n",
    "        print(\"Congratulations you win\")\n",
    "        indicator = False\n",
    "        print(mat)\n",
    "        break\n",
    "    elif mat[:,[2]][0] == mat[:,[2]][1] == mat[:,[2]][2]:\n",
    "        print(\"Congratulations you win\")\n",
    "        indicator = False\n",
    "        print(mat)\n",
    "        break\n",
    "    elif mat[0,0] == mat[1,1] == mat[2,2]:\n",
    "        print(\"Congratulations you win\")\n",
    "        indicator = False\n",
    "        print(mat)\n",
    "        break\n",
    "    elif mat[0,2] == mat[1,1] == mat[2,0]:\n",
    "        print(\"Congratulations you win\")\n",
    "        print(mat)\n",
    "        break\n",
    "    else:\n",
    "        print(\"Continue with selecting the next action\")\n",
    "        print(mat)\n",
    "        \n",
    "    "
   ]
  },
  {
   "cell_type": "code",
   "execution_count": null,
   "metadata": {},
   "outputs": [],
   "source": []
  }
 ],
 "metadata": {
  "kernelspec": {
   "display_name": "Python 3",
   "language": "python",
   "name": "python3"
  },
  "language_info": {
   "codemirror_mode": {
    "name": "ipython",
    "version": 3
   },
   "file_extension": ".py",
   "mimetype": "text/x-python",
   "name": "python",
   "nbconvert_exporter": "python",
   "pygments_lexer": "ipython3",
   "version": "3.8.5"
  }
 },
 "nbformat": 4,
 "nbformat_minor": 4
}
